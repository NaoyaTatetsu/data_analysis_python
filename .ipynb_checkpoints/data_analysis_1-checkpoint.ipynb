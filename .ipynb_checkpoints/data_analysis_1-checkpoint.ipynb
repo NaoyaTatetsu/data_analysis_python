{
 "cells": [
  {
   "cell_type": "markdown",
   "metadata": {},
   "source": [
    "---\n",
    "<div style=\"text-align: center;\" >\n",
    "    <h1>\n",
    "        <b>データサイエンスプログラミング演習</b>\n",
    "    </h1>\n",
    "    <h3>\n",
    "        第1回授業ノート\n",
    "    </h3>\n",
    "</div>\n",
    "<div style=\"text-align: right\">\n",
    "    <br/>\n",
    "    立津尚也\n",
    "</div>\n",
    "\n",
    "---"
   ]
  },
  {
   "cell_type": "markdown",
   "metadata": {},
   "source": [
    "**Data Preparation**\n",
    "<br>処理/分析前に生データをクレンジングして変換するプロセス = データの前処理\n",
    "<br>***クレンジング**\n",
    "<br>データベースに保存されているデータの中から、重複や誤記、表記の揺れなどを探し出し、削除や修正、正規化などを行い、データの品質を高めること"
   ]
  },
  {
   "cell_type": "markdown",
   "metadata": {},
   "source": [
    "#### **Python**\n",
    "<br>**pandas** ・・・データ解析を支援する機能を提供するライブラリ\n",
    "<br>**numpy**　・・・数値計算を効率的に行うための拡張モジュール\n",
    "<br>**matplotlib**　・・・科学計算用ライブラリNumPyのためのグラフ描画ライブラリ\n",
    "<br>**pillow**　・・・画像処理ライブラリ\n",
    "#### **unixコマンド**\n",
    "<br>**pwd**　・・・現在の作業ディレクトリの絶対パスを表示します。なお絶対パスとは、最上位階層から目的のファイルやフォルダまでの道筋を省略なく記述する方式のことです。一方の相対パスは、起点となる現在位置から目的のファイルやフォルダまでの道筋を記述する方式 \n",
    "<br>**ls**　・・・ディレクトリの内容をリスト表示するコマンド \n",
    "<br>**mkdir**　・・・ディレクトリを作成するコマンド \n",
    "<br>**cd**　・・・作業ディレクトリを変更するコマンド（ディレクトリを移動） \n",
    "<br>**cp**　・・・ファイルをコピーするコマンド \n",
    "<br>**mv**　・・・ファイルの移動およびリネームを行うコマンド \n",
    "<br>**cat**　・・・ファイルの内容を結合し、表示するコマンド"
   ]
  },
  {
   "cell_type": "markdown",
   "metadata": {},
   "source": [
    "#### **Dockerを用いたJupyterLabの起動手順**\n",
    "1. Dockerfileとdocker-compose.ymlが置かれたディレクトリに移動\n",
    "2. docker-compose up -d  で起動\n",
    "初回起動時またはDockerfileやdocker-compose.ymlを書き換えた場合は docker-compose up --build -d \n",
    "<br>※ -d バックグラウンドでコマンドを実行するいう命令オプション\n",
    "3. Webブラウザでlocalhost:8888にアクセス"
   ]
  },
  {
   "cell_type": "markdown",
   "metadata": {},
   "source": [
    "--- \n",
    "## ターミナル、Unixコマンドの基本\n",
    "\n",
    "---\n"
   ]
  },
  {
   "cell_type": "markdown",
   "metadata": {},
   "source": [
    "**プロンプトの表示を変更する(短くして可読性を上げる)** \n",
    "* terminal上でPS1=' w  t:'で場所と時間のみの表記\n",
    "* wが場所、tが時間を表しているためPS1=' w:'とする事で場所だけの表記に変えることが可能\n",
    "\n",
    "<br>**ディレクトリの作成方法** ・・・ mkdir (ディレクトリ名) \n",
    "<br>**作業ディレクトリの変更方法** ・・・ cd (ディレクトリ名) \n",
    "<br>**ファイルの移動方法** ・・・ mv (ファイルA) (ディレクトリB) \n",
    "<br>**ファイル内容の簡易表示方法**　・・・ less （ファイル名）"
   ]
  },
  {
   "cell_type": "markdown",
   "metadata": {},
   "source": [
    "--- \n",
    "## JupyterLabの終了手順\n",
    "\n",
    "---\n"
   ]
  },
  {
   "cell_type": "markdown",
   "metadata": {},
   "source": [
    "1. メニューの「File 」から　「Shut Down」を選択\n",
    "2. Shutdown confirmationのウィンドウが表示されたら「Shut Down」を選択"
   ]
  },
  {
   "cell_type": "markdown",
   "metadata": {},
   "source": [
    "--- \n",
    "## JupyterLab\n",
    "\n",
    "---\n"
   ]
  },
  {
   "cell_type": "markdown",
   "metadata": {},
   "source": [
    "<br>Jupyterとは、Pythonの対話型シェルである「IPython」から派生したプロジェクト \n",
    "<br>Notebookと呼ばれる、Webベースの実行環境を利用しPythonのソースコードを記述・実行することができる \n",
    "<br>Markdown記法によるドキュメント作成も可能、ソースコードと組み合わせた技術ノートの作成に最適 \n",
    "<br>その他の言語にも対応：Ruby, JavaScript, PHP, C#など\n",
    "\n",
    "<br>Jupyter + Notebook = Jupyter Notebookと呼ばれる  \n",
    "　　　　　　　　　　　　　→ (UIが進化) → JupyterLab"
   ]
  },
  {
   "cell_type": "markdown",
   "metadata": {},
   "source": [
    "--- \n",
    "## JupyterLabの基本操作\n",
    "\n",
    "---\n"
   ]
  },
  {
   "cell_type": "markdown",
   "metadata": {},
   "source": [
    "**ホストPC（MacやWindowsなどの）と接続されているディレクトリ＝JupyterLabでのファイル保存場所、ノートブックの作成**\n",
    "* JupyterLabのworkとホストPCのdsprog1(正確にはDockerfileとdocker-compose.ymlを置いて'docker-compose up'したディレクトリ)が接続されている"
   ]
  },
  {
   "cell_type": "markdown",
   "metadata": {},
   "source": [
    "**スクリプト（Python）の記述と実行**"
   ]
  },
  {
   "cell_type": "code",
   "execution_count": 6,
   "metadata": {},
   "outputs": [
    {
     "name": "stdout",
     "output_type": "stream",
     "text": [
      "hello\n"
     ]
    }
   ],
   "source": [
    "print('hello')"
   ]
  },
  {
   "cell_type": "markdown",
   "metadata": {},
   "source": [
    "**セルの実行**\n",
    "* ノート上部の再生ボタンをクリック \n",
    "(ショートカットキー　・・・shift + return)"
   ]
  },
  {
   "cell_type": "markdown",
   "metadata": {},
   "source": [
    "**ノートブック（ファイル）名の変更**\n",
    "1. 変更したいファイルの上で右クリック\n",
    "1. Renameをクリック\n",
    "1. 変更したい名前に変更"
   ]
  },
  {
   "cell_type": "markdown",
   "metadata": {},
   "source": [
    "**ノートブック（ファイル）の保存** \n",
    "* ノート上部の一番左にある保存ボタンをクリック \n",
    "(ショートカットキー　・・・command + S)"
   ]
  },
  {
   "cell_type": "markdown",
   "metadata": {},
   "source": [
    "**セルの追加、削除** \n",
    "* セルの追加　・・・ ノート上部のプラスをクリック\n",
    "* セルの削除　・・・　ノート上部のハサミをクリック \n",
    "(ショートカットキー　・・・ コマンドモード時にAで追加、Xで削除)"
   ]
  },
  {
   "cell_type": "markdown",
   "metadata": {},
   "source": [
    "**すべてのセルの実行をクリア（ショートカットキーの利用）**"
   ]
  },
  {
   "cell_type": "markdown",
   "metadata": {},
   "source": [
    "**コマンドモードへ切り替え** \n",
    "<br>エディットモードの時、escapeキーを押す"
   ]
  },
  {
   "cell_type": "markdown",
   "metadata": {},
   "source": [
    "**Codeモード・Markdownモードへ切り替え** \n",
    "<br>コマンドモードへ切り替えた後、Yを押すとCodeモードに、Mを押すとMarkdownモードへと切り替え可能"
   ]
  },
  {
   "cell_type": "markdown",
   "metadata": {},
   "source": [
    "--- \n",
    "## Markdown文書作成でよくあるエラー\n",
    "\n",
    "---\n"
   ]
  },
  {
   "cell_type": "markdown",
   "metadata": {},
   "source": [
    "**エラー** \n",
    "モードが \"Code\" のままになっている \n",
    "**解決方法** \n",
    "\"Markdown\"に変更し実行する"
   ]
  },
  {
   "cell_type": "markdown",
   "metadata": {},
   "source": [
    "--- \n",
    "## Markdown練習1\n",
    "\n",
    "---\n"
   ]
  },
  {
   "cell_type": "markdown",
   "metadata": {},
   "source": [
    "# 見出し1\n",
    "## 見出し2\n",
    "### 見出し3\n",
    "#### 見出し4\n",
    "---\n",
    "\n",
    "リスト\n",
    "* 項目1\n",
    "* 項目2\n",
    "* 項目3\n",
    "---\n",
    "\n",
    "番号付リスト\n",
    "\n",
    "1. 上林\n",
    "2. ウィラット\n",
    "3. ソム\n",
    "4. 中西\n",
    "5. 佐々木\n",
    "6. 福原\n",
    "7. 林\n",
    "8. 長谷川\n",
    "9. 秘密1\n",
    "0. 秘密2\n",
    "1. 秘密3\n",
    "2. 中村"
   ]
  },
  {
   "cell_type": "markdown",
   "metadata": {},
   "source": []
  }
 ],
 "metadata": {
  "kernelspec": {
   "display_name": "Python 3",
   "language": "python",
   "name": "python3"
  },
  "language_info": {
   "codemirror_mode": {
    "name": "ipython",
    "version": 3
   },
   "file_extension": ".py",
   "mimetype": "text/x-python",
   "name": "python",
   "nbconvert_exporter": "python",
   "pygments_lexer": "ipython3",
   "version": "3.8.2"
  }
 },
 "nbformat": 4,
 "nbformat_minor": 4
}

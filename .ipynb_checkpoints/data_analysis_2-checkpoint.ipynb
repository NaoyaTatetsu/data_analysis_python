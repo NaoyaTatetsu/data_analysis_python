{
 "cells": [
  {
   "cell_type": "markdown",
   "metadata": {},
   "source": [
    "---\n",
    "<div style=\"text-align: center;\" >\n",
    "    <h1>\n",
    "        <b>データサイエンスプログラミング演習</b>\n",
    "    </h1>\n",
    "    <h3>\n",
    "        第3,4回授業ノート\n",
    "    </h3>\n",
    "</div>\n",
    "<div style=\"text-align: right\">\n",
    "    <br/>\n",
    "    立津尚也\n",
    "</div>\n",
    "\n",
    "---"
   ]
  },
  {
   "cell_type": "markdown",
   "metadata": {},
   "source": [
    "## **前回の復習**\n",
    "#### **Pythonライブラリ（再掲）**\n",
    "|ライブラリ名|説明|\n",
    "|:---:|---|\n",
    "|pandas| パンダスと呼ぶ。データ解析用のライブラリで、データ操作や分析に利用される。|\n",
    "|numpy| ナムパイと呼ぶ。機械学習などで科学計算を高速に行うためのライブラリ。 |\n",
    "|matplotlib| マットプロットリブと呼ぶ。グラフを描画するためのライブラリ。 |\n",
    "|pillow| ピローと呼ぶ。Pythonで画像を加工するためのライブラリ。切り抜きなどの画像加工ができる。|"
   ]
  },
  {
   "cell_type": "markdown",
   "metadata": {},
   "source": [
    "#### **セルの種類について**\n",
    "　`セル` には次の3つの種類がありました。\n",
    "- Code：デフォルトでこの種類が設定されている\n",
    "- Markdown\n",
    "- Raw"
   ]
  },
  {
   "cell_type": "markdown",
   "metadata": {},
   "source": [
    "#### **セルの種類を間違えたときのエラー確認**"
   ]
  },
  {
   "cell_type": "code",
   "execution_count": 1,
   "metadata": {},
   "outputs": [
    {
     "name": "stdout",
     "output_type": "stream",
     "text": [
      "Pythonのスクリプトを実行\n"
     ]
    }
   ],
   "source": [
    "print('Pythonのスクリプトを実行') #セルの種類：Code　で,Pythonのスクリプトを記述"
   ]
  },
  {
   "cell_type": "code",
   "execution_count": 2,
   "metadata": {},
   "outputs": [],
   "source": [
    "# Markdown記法で文章を記述する\\\n",
    "# セルの種類を `Markdown` に変更せずに実行すると下のようなエラーが出る"
   ]
  },
  {
   "cell_type": "markdown",
   "metadata": {},
   "source": [
    "```\n",
    "SyntaxError：　invalid syntax・・・構文エラー（Pythonの文法ルールを守って記述できていない）\n",
    "行末に表示されるエラーメッセージを調べる\n",
    "```"
   ]
  },
  {
   "cell_type": "markdown",
   "metadata": {},
   "source": [
    "[エラーメッセージの読み方(参考リンク）](https://qiita.com/soutarrr7/items/84e529d87aa3b3a9adcb)"
   ]
  },
  {
   "cell_type": "markdown",
   "metadata": {},
   "source": [
    "---\n",
    "#### **『コラム』**\n",
    "- 改行\n",
    "    - `\\`(バックスラッシュ）を入れ、`return`\n",
    "    - 文末に半角空白スペースを2つ入れ、`return`\n",
    "    - 1行空白の行を入れる　←　無駄な空白が気になる\n",
    "    - `<br>`タグを使う　←　これが一番が分かりやすい"
   ]
  },
  {
   "cell_type": "markdown",
   "metadata": {},
   "source": [
    "　収集したデータはそのままでは機械学習に使用できない。前処理とは収集したデータを機械学習で扱える形式に変換することを指す。\\\n",
    " 　現実世界で収集したデータは、空の部分があったり（欠損値）、他のデータ群から大きく外れたデータ（外れ値）が存在することがある。機械学習やデータ分析では、Jupyter（ジュピター）という、エディタと対話モードが一体化したツールがよく使われる。\\\n",
    " 　Jupyterはブラウザ上で対話的にPythonを実行できるWebアプリケーションである。対話的というのは画面上にコードを入力して実行すると、すぐに結果が表示されるインタフェースのことである。Pythonにも対話モードがある、Jupyterはより高度な機能が備わっている。"
   ]
  },
  {
   "cell_type": "markdown",
   "metadata": {},
   "source": [
    "<div style=\"padding: 10px; margin-bottom: 10px; border: 1px dashed #333333;\">\n",
    "　収集したデータはそのままでは機械学習に使用できない。前処理とは収集したデータを機械学習で扱える形式に変換することを指す。\n",
    "    <br>　現実世界で収集したデータは、空の部分があったり（欠損値）、他のデータ群から大きく外れたデータ（外れ値）が存在することがある。機械学習やデータ分析では、Jupyter（ジュピター）という、エディタと対話モードが一体化したツールがよく使われる。\n",
    "    <br>　Jupyterはブラウザ上で対話的にPythonを実行できるWebアプリケーションである。対話的というのは画面上にコードを入力して実行すると、すぐに結果が表示されるインタフェースのことである。Pythonにも対話モードがある、Jupyterはより高度な機能が備わっている。\n",
    "</div>"
   ]
  },
  {
   "cell_type": "markdown",
   "metadata": {},
   "source": [
    "- セルの分割ショートカットキー"
   ]
  },
  {
   "cell_type": "markdown",
   "metadata": {},
   "source": [
    "<div style=\"padding: 10px; margin-bottom: 10px; border: 1px dashed #333333;\">\n",
    "control + shift + 「−」　を同時に押すと、セルが分割される　下の文章の途中で分割してみましょう。\n",
    "</div>"
   ]
  },
  {
   "cell_type": "markdown",
   "metadata": {},
   "source": [
    "　収集したデータはそのままでは機械学習に使用できない。前処理とは収集したデータを機械学習で扱える形式に変換することを指す。現実世界で収集したデータは、空の部分があったり（欠損値）、他のデータ群から大きく外れたデータ（外れ値）が存在することがある。機械学習やデータ分析では、Jupyter（ジュピター）という、エディタと対話モードが一体化したツールがよく使われる。Jupyterはブラウザ上で対話的にPythonを実行できるWebアプリケーションである。対話的というのは画面上にコードを入力して実行すると、すぐに結果が表示されるインタフェースのことである。Pythonにも対話モードがある、Jupyterはより高度な機能が備わっている。"
   ]
  },
  {
   "cell_type": "markdown",
   "metadata": {},
   "source": [
    "---\n",
    "### **Pythonライブラリ**\n",
    "#### **（例） pandasとnumpyライブラリの利用**"
   ]
  },
  {
   "cell_type": "code",
   "execution_count": 3,
   "metadata": {},
   "outputs": [
    {
     "data": {
      "text/plain": [
       "array([[-0.22809135, -0.60130409, -0.56277546, -0.49842794],\n",
       "       [-0.5909524 ,  1.30856497, -0.97905713,  0.80189604],\n",
       "       [-0.23748948,  0.90034526, -0.00609166, -0.60656982],\n",
       "       [ 0.3492181 , -0.20741936, -0.74499761,  2.15590276],\n",
       "       [ 1.40298168,  1.14701136,  0.52511909,  0.29504068],\n",
       "       [ 0.11448876,  1.63366829,  1.17555802, -0.23340745]])"
      ]
     },
     "execution_count": 3,
     "metadata": {},
     "output_type": "execute_result"
    }
   ],
   "source": [
    "import pandas as pd #pdはpandasの省略\n",
    "import numpy as np #npはnumpyの省略\n",
    "data = np.random.randn(6,4) # 6行 x 4列のランダム値を生成\n",
    "data"
   ]
  },
  {
   "cell_type": "code",
   "execution_count": 4,
   "metadata": {},
   "outputs": [
    {
     "data": {
      "text/html": [
       "<div>\n",
       "<style scoped>\n",
       "    .dataframe tbody tr th:only-of-type {\n",
       "        vertical-align: middle;\n",
       "    }\n",
       "\n",
       "    .dataframe tbody tr th {\n",
       "        vertical-align: top;\n",
       "    }\n",
       "\n",
       "    .dataframe thead th {\n",
       "        text-align: right;\n",
       "    }\n",
       "</style>\n",
       "<table border=\"1\" class=\"dataframe\">\n",
       "  <thead>\n",
       "    <tr style=\"text-align: right;\">\n",
       "      <th></th>\n",
       "      <th>A</th>\n",
       "      <th>B</th>\n",
       "      <th>C</th>\n",
       "      <th>D</th>\n",
       "    </tr>\n",
       "  </thead>\n",
       "  <tbody>\n",
       "    <tr>\n",
       "      <th>0</th>\n",
       "      <td>-0.228091</td>\n",
       "      <td>-0.601304</td>\n",
       "      <td>-0.562775</td>\n",
       "      <td>-0.498428</td>\n",
       "    </tr>\n",
       "    <tr>\n",
       "      <th>1</th>\n",
       "      <td>-0.590952</td>\n",
       "      <td>1.308565</td>\n",
       "      <td>-0.979057</td>\n",
       "      <td>0.801896</td>\n",
       "    </tr>\n",
       "    <tr>\n",
       "      <th>2</th>\n",
       "      <td>-0.237489</td>\n",
       "      <td>0.900345</td>\n",
       "      <td>-0.006092</td>\n",
       "      <td>-0.606570</td>\n",
       "    </tr>\n",
       "    <tr>\n",
       "      <th>3</th>\n",
       "      <td>0.349218</td>\n",
       "      <td>-0.207419</td>\n",
       "      <td>-0.744998</td>\n",
       "      <td>2.155903</td>\n",
       "    </tr>\n",
       "    <tr>\n",
       "      <th>4</th>\n",
       "      <td>1.402982</td>\n",
       "      <td>1.147011</td>\n",
       "      <td>0.525119</td>\n",
       "      <td>0.295041</td>\n",
       "    </tr>\n",
       "    <tr>\n",
       "      <th>5</th>\n",
       "      <td>0.114489</td>\n",
       "      <td>1.633668</td>\n",
       "      <td>1.175558</td>\n",
       "      <td>-0.233407</td>\n",
       "    </tr>\n",
       "  </tbody>\n",
       "</table>\n",
       "</div>"
      ],
      "text/plain": [
       "          A         B         C         D\n",
       "0 -0.228091 -0.601304 -0.562775 -0.498428\n",
       "1 -0.590952  1.308565 -0.979057  0.801896\n",
       "2 -0.237489  0.900345 -0.006092 -0.606570\n",
       "3  0.349218 -0.207419 -0.744998  2.155903\n",
       "4  1.402982  1.147011  0.525119  0.295041\n",
       "5  0.114489  1.633668  1.175558 -0.233407"
      ]
     },
     "execution_count": 4,
     "metadata": {},
     "output_type": "execute_result"
    }
   ],
   "source": [
    "pd.DataFrame(data, columns=list('ABCD')) # 上のdataを表として処理"
   ]
  },
  {
   "cell_type": "markdown",
   "metadata": {},
   "source": [
    "#### **（例） matplotlibライブラリの利用**"
   ]
  },
  {
   "cell_type": "code",
   "execution_count": 5,
   "metadata": {},
   "outputs": [
    {
     "data": {
      "image/png": "[encoded data removed]",
      "text/plain": [
       "<Figure size 432x288 with 1 Axes>"
      ]
     },
     "metadata": {
      "needs_background": "light"
     },
     "output_type": "display_data"
    }
   ],
   "source": [
    "import matplotlib.pyplot as plt\n",
    "import numpy as np\n",
    "x = np.random.normal(size=10000)\n",
    "plt.hist(x,bins=50)\n",
    "plt.show() # ちなみに、このぐらいのグラフはpandasでもできる"
   ]
  },
  {
   "cell_type": "code",
   "execution_count": 6,
   "metadata": {},
   "outputs": [
    {
     "data": {
      "text/plain": [
       "<mpl_toolkits.mplot3d.art3d.Poly3DCollection at 0x1099d0dc0>"
      ]
     },
     "execution_count": 6,
     "metadata": {},
     "output_type": "execute_result"
    },
    {
     "data": {
      "image/png": "[encoded data removed]",
      "text/plain": [
       "<Figure size 432x288 with 1 Axes>"
      ]
     },
     "metadata": {
      "needs_background": "light"
     },
     "output_type": "display_data"
    }
   ],
   "source": [
    "import numpy as np\n",
    "import matplotlib.pyplot as plt\n",
    "from mpl_toolkits.mplot3d import axes3d\n",
    "from matplotlib import cm\n",
    "\n",
    "fig = plt.figure()\n",
    "ax = fig.add_subplot(111, projection='3d')\n",
    "\n",
    "x = y = np.arange(-5, 5, 0.1)\n",
    "X, Y = np.meshgrid(x, y)\n",
    "\n",
    "sigma = 4\n",
    "Z = np.exp(-(X**2 + Y**2)/(2*sigma**2)) / (2*np.pi*sigma**2)\n",
    "\n",
    "ax.plot_surface(X, Y, Z, rstride=1, cstride=1, cmap=cm.coolwarm)\n",
    "#plt.savefig(\"sample_3d_surface.png\") #この画像が同じディレクトリに保存される"
   ]
  },
  {
   "cell_type": "markdown",
   "metadata": {},
   "source": [
    "#### **（例） pillowの利用**"
   ]
  },
  {
   "cell_type": "code",
   "execution_count": 7,
   "metadata": {},
   "outputs": [
    {
     "data": {
      "image/png": "[encoded data removed]",
      "text/plain": [
       "<PIL.Image.Image image mode=RGBA size=128x72 at 0x1099D0C70>"
      ]
     },
     "execution_count": 7,
     "metadata": {},
     "output_type": "execute_result"
    }
   ],
   "source": [
    "from PIL import Image\n",
    "\n",
    "# 入力画像の読み込み\n",
    "img = Image.open(\"data/CRISP-DM.png\")\n",
    "img\n",
    "\n",
    "# 画像サイズを変更\n",
    "\n",
    "img_resize = img.resize((128, 72))\n",
    "img_resize"
   ]
  },
  {
   "cell_type": "markdown",
   "metadata": {},
   "source": [
    "---\n",
    "# pandasによるデータ操作、前処理\n",
    "---"
   ]
  },
  {
   "cell_type": "markdown",
   "metadata": {},
   "source": []
  },
  {
   "cell_type": "markdown",
   "metadata": {},
   "source": [
    "### 機械学習に関する課題\n",
    "- データがない　→　データ収集\n",
    "- データが汚い　→　前処理\n",
    "- 成果が出ない　→　精度評価\n",
    "- 利用しにくい　→　システム化"
   ]
  },
  {
   "cell_type": "markdown",
   "metadata": {},
   "source": [
    "---\n",
    "### **DataFrameによるデータ操作や欠損値処理**\n",
    "#### **1.csvファイルの読み込み、一覧表示**"
   ]
  },
  {
   "cell_type": "code",
   "execution_count": 8,
   "metadata": {},
   "outputs": [
    {
     "data": {
      "text/html": [
       "<div>\n",
       "<style scoped>\n",
       "    .dataframe tbody tr th:only-of-type {\n",
       "        vertical-align: middle;\n",
       "    }\n",
       "\n",
       "    .dataframe tbody tr th {\n",
       "        vertical-align: top;\n",
       "    }\n",
       "\n",
       "    .dataframe thead th {\n",
       "        text-align: right;\n",
       "    }\n",
       "</style>\n",
       "<table border=\"1\" class=\"dataframe\">\n",
       "  <thead>\n",
       "    <tr style=\"text-align: right;\">\n",
       "      <th></th>\n",
       "      <th>date</th>\n",
       "      <th>station</th>\n",
       "      <th>temp</th>\n",
       "    </tr>\n",
       "  </thead>\n",
       "  <tbody>\n",
       "    <tr>\n",
       "      <th>0</th>\n",
       "      <td>2018/9/1</td>\n",
       "      <td>札幌</td>\n",
       "      <td>19.5</td>\n",
       "    </tr>\n",
       "    <tr>\n",
       "      <th>1</th>\n",
       "      <td>2018/9/1</td>\n",
       "      <td>青森</td>\n",
       "      <td>21.5</td>\n",
       "    </tr>\n",
       "    <tr>\n",
       "      <th>2</th>\n",
       "      <td>2018/9/1</td>\n",
       "      <td>仙台</td>\n",
       "      <td>21.5</td>\n",
       "    </tr>\n",
       "    <tr>\n",
       "      <th>3</th>\n",
       "      <td>2018/9/1</td>\n",
       "      <td>東京</td>\n",
       "      <td>25.9</td>\n",
       "    </tr>\n",
       "    <tr>\n",
       "      <th>4</th>\n",
       "      <td>2018/9/1</td>\n",
       "      <td>福岡</td>\n",
       "      <td>25.5</td>\n",
       "    </tr>\n",
       "    <tr>\n",
       "      <th>...</th>\n",
       "      <td>...</td>\n",
       "      <td>...</td>\n",
       "      <td>...</td>\n",
       "    </tr>\n",
       "    <tr>\n",
       "      <th>1495</th>\n",
       "      <td>2018/9/30</td>\n",
       "      <td>長崎</td>\n",
       "      <td>21.9</td>\n",
       "    </tr>\n",
       "    <tr>\n",
       "      <th>1496</th>\n",
       "      <td>2018/9/30</td>\n",
       "      <td>佐賀</td>\n",
       "      <td>21.3</td>\n",
       "    </tr>\n",
       "    <tr>\n",
       "      <th>1497</th>\n",
       "      <td>2018/9/30</td>\n",
       "      <td>熊本</td>\n",
       "      <td>20.7</td>\n",
       "    </tr>\n",
       "    <tr>\n",
       "      <th>1498</th>\n",
       "      <td>2018/9/30</td>\n",
       "      <td>稚内</td>\n",
       "      <td>16.6</td>\n",
       "    </tr>\n",
       "    <tr>\n",
       "      <th>1499</th>\n",
       "      <td>2018/9/30</td>\n",
       "      <td>函館</td>\n",
       "      <td>17.6</td>\n",
       "    </tr>\n",
       "  </tbody>\n",
       "</table>\n",
       "<p>1500 rows × 3 columns</p>\n",
       "</div>"
      ],
      "text/plain": [
       "           date station  temp\n",
       "0      2018/9/1      札幌  19.5\n",
       "1      2018/9/1      青森  21.5\n",
       "2      2018/9/1      仙台  21.5\n",
       "3      2018/9/1      東京  25.9\n",
       "4      2018/9/1      福岡  25.5\n",
       "...         ...     ...   ...\n",
       "1495  2018/9/30      長崎  21.9\n",
       "1496  2018/9/30      佐賀  21.3\n",
       "1497  2018/9/30      熊本  20.7\n",
       "1498  2018/9/30      稚内  16.6\n",
       "1499  2018/9/30      函館  17.6\n",
       "\n",
       "[1500 rows x 3 columns]"
      ]
     },
     "execution_count": 8,
     "metadata": {},
     "output_type": "execute_result"
    }
   ],
   "source": [
    "import pandas as pd\n",
    "\n",
    "df = pd.read_csv( #dfという名で取り扱いやすくする\n",
    "    'data/temp.csv', #読み込むファイル名\n",
    "    encoding = 'Shift_JIS' #Shift_JISはWindows,Macはutf-8\n",
    ")\n",
    "df #上記で格納したDtaeFrameの内容表示"
   ]
  },
  {
   "cell_type": "markdown",
   "metadata": {},
   "source": [
    "#### **2.サンプルデータを表示する方法（先頭部分だけ）**"
   ]
  },
  {
   "cell_type": "code",
   "execution_count": 9,
   "metadata": {},
   "outputs": [
    {
     "data": {
      "text/html": [
       "<div>\n",
       "<style scoped>\n",
       "    .dataframe tbody tr th:only-of-type {\n",
       "        vertical-align: middle;\n",
       "    }\n",
       "\n",
       "    .dataframe tbody tr th {\n",
       "        vertical-align: top;\n",
       "    }\n",
       "\n",
       "    .dataframe thead th {\n",
       "        text-align: right;\n",
       "    }\n",
       "</style>\n",
       "<table border=\"1\" class=\"dataframe\">\n",
       "  <thead>\n",
       "    <tr style=\"text-align: right;\">\n",
       "      <th></th>\n",
       "      <th>date</th>\n",
       "      <th>station</th>\n",
       "      <th>temp</th>\n",
       "    </tr>\n",
       "  </thead>\n",
       "  <tbody>\n",
       "    <tr>\n",
       "      <th>0</th>\n",
       "      <td>2018/9/1</td>\n",
       "      <td>札幌</td>\n",
       "      <td>19.5</td>\n",
       "    </tr>\n",
       "    <tr>\n",
       "      <th>1</th>\n",
       "      <td>2018/9/1</td>\n",
       "      <td>青森</td>\n",
       "      <td>21.5</td>\n",
       "    </tr>\n",
       "    <tr>\n",
       "      <th>2</th>\n",
       "      <td>2018/9/1</td>\n",
       "      <td>仙台</td>\n",
       "      <td>21.5</td>\n",
       "    </tr>\n",
       "    <tr>\n",
       "      <th>3</th>\n",
       "      <td>2018/9/1</td>\n",
       "      <td>東京</td>\n",
       "      <td>25.9</td>\n",
       "    </tr>\n",
       "    <tr>\n",
       "      <th>4</th>\n",
       "      <td>2018/9/1</td>\n",
       "      <td>福岡</td>\n",
       "      <td>25.5</td>\n",
       "    </tr>\n",
       "  </tbody>\n",
       "</table>\n",
       "</div>"
      ],
      "text/plain": [
       "       date station  temp\n",
       "0  2018/9/1      札幌  19.5\n",
       "1  2018/9/1      青森  21.5\n",
       "2  2018/9/1      仙台  21.5\n",
       "3  2018/9/1      東京  25.9\n",
       "4  2018/9/1      福岡  25.5"
      ]
     },
     "execution_count": 9,
     "metadata": {},
     "output_type": "execute_result"
    }
   ],
   "source": [
    "df.head()"
   ]
  },
  {
   "cell_type": "markdown",
   "metadata": {},
   "source": [
    "#### **3.末尾の数行だけ表示**"
   ]
  },
  {
   "cell_type": "code",
   "execution_count": 10,
   "metadata": {},
   "outputs": [
    {
     "data": {
      "text/html": [
       "<div>\n",
       "<style scoped>\n",
       "    .dataframe tbody tr th:only-of-type {\n",
       "        vertical-align: middle;\n",
       "    }\n",
       "\n",
       "    .dataframe tbody tr th {\n",
       "        vertical-align: top;\n",
       "    }\n",
       "\n",
       "    .dataframe thead th {\n",
       "        text-align: right;\n",
       "    }\n",
       "</style>\n",
       "<table border=\"1\" class=\"dataframe\">\n",
       "  <thead>\n",
       "    <tr style=\"text-align: right;\">\n",
       "      <th></th>\n",
       "      <th>date</th>\n",
       "      <th>station</th>\n",
       "      <th>temp</th>\n",
       "    </tr>\n",
       "  </thead>\n",
       "  <tbody>\n",
       "    <tr>\n",
       "      <th>1495</th>\n",
       "      <td>2018/9/30</td>\n",
       "      <td>長崎</td>\n",
       "      <td>21.9</td>\n",
       "    </tr>\n",
       "    <tr>\n",
       "      <th>1496</th>\n",
       "      <td>2018/9/30</td>\n",
       "      <td>佐賀</td>\n",
       "      <td>21.3</td>\n",
       "    </tr>\n",
       "    <tr>\n",
       "      <th>1497</th>\n",
       "      <td>2018/9/30</td>\n",
       "      <td>熊本</td>\n",
       "      <td>20.7</td>\n",
       "    </tr>\n",
       "    <tr>\n",
       "      <th>1498</th>\n",
       "      <td>2018/9/30</td>\n",
       "      <td>稚内</td>\n",
       "      <td>16.6</td>\n",
       "    </tr>\n",
       "    <tr>\n",
       "      <th>1499</th>\n",
       "      <td>2018/9/30</td>\n",
       "      <td>函館</td>\n",
       "      <td>17.6</td>\n",
       "    </tr>\n",
       "  </tbody>\n",
       "</table>\n",
       "</div>"
      ],
      "text/plain": [
       "           date station  temp\n",
       "1495  2018/9/30      長崎  21.9\n",
       "1496  2018/9/30      佐賀  21.3\n",
       "1497  2018/9/30      熊本  20.7\n",
       "1498  2018/9/30      稚内  16.6\n",
       "1499  2018/9/30      函館  17.6"
      ]
     },
     "execution_count": 10,
     "metadata": {},
     "output_type": "execute_result"
    }
   ],
   "source": [
    "df.tail()"
   ]
  },
  {
   "cell_type": "markdown",
   "metadata": {},
   "source": [
    ">pandasには、表データをDataFrameとよばれるオブジェクトで扱う。DataFrame内のデータを検索したり、グラフとして表示する機能もある。\\\n",
    "DataFrameのiloc属性とスライスを使って、DataFrameから任意の行の範囲を取り出すことができる。"
   ]
  },
  {
   "cell_type": "markdown",
   "metadata": {},
   "source": [
    "#### **4.指定した行だけを抽出**"
   ]
  },
  {
   "cell_type": "code",
   "execution_count": 11,
   "metadata": {},
   "outputs": [
    {
     "data": {
      "text/html": [
       "<div>\n",
       "<style scoped>\n",
       "    .dataframe tbody tr th:only-of-type {\n",
       "        vertical-align: middle;\n",
       "    }\n",
       "\n",
       "    .dataframe tbody tr th {\n",
       "        vertical-align: top;\n",
       "    }\n",
       "\n",
       "    .dataframe thead th {\n",
       "        text-align: right;\n",
       "    }\n",
       "</style>\n",
       "<table border=\"1\" class=\"dataframe\">\n",
       "  <thead>\n",
       "    <tr style=\"text-align: right;\">\n",
       "      <th></th>\n",
       "      <th>date</th>\n",
       "      <th>station</th>\n",
       "      <th>temp</th>\n",
       "    </tr>\n",
       "  </thead>\n",
       "  <tbody>\n",
       "    <tr>\n",
       "      <th>0</th>\n",
       "      <td>2018/9/1</td>\n",
       "      <td>札幌</td>\n",
       "      <td>19.5</td>\n",
       "    </tr>\n",
       "    <tr>\n",
       "      <th>1</th>\n",
       "      <td>2018/9/1</td>\n",
       "      <td>青森</td>\n",
       "      <td>21.5</td>\n",
       "    </tr>\n",
       "    <tr>\n",
       "      <th>2</th>\n",
       "      <td>2018/9/1</td>\n",
       "      <td>仙台</td>\n",
       "      <td>21.5</td>\n",
       "    </tr>\n",
       "    <tr>\n",
       "      <th>3</th>\n",
       "      <td>2018/9/1</td>\n",
       "      <td>東京</td>\n",
       "      <td>25.9</td>\n",
       "    </tr>\n",
       "  </tbody>\n",
       "</table>\n",
       "</div>"
      ],
      "text/plain": [
       "       date station  temp\n",
       "0  2018/9/1      札幌  19.5\n",
       "1  2018/9/1      青森  21.5\n",
       "2  2018/9/1      仙台  21.5\n",
       "3  2018/9/1      東京  25.9"
      ]
     },
     "execution_count": 11,
     "metadata": {},
     "output_type": "execute_result"
    }
   ],
   "source": [
    "df.iloc[0:4]"
   ]
  },
  {
   "cell_type": "markdown",
   "metadata": {},
   "source": [
    ">DataFrameは先頭行を0行目として扱う点に注意、表の左の数値を目印にする"
   ]
  },
  {
   "cell_type": "markdown",
   "metadata": {},
   "source": [
    "<div style=\"padding: 10px; margin-bottom: 10px; border: 1px dashed #333333;\">\n",
    "    <b>練習問題1　下図に示すように、上記data.csvファイルの先頭4〜6行目のデータを表示するスクリプトを記述しなさい</b>\n",
    "<div>\n",
    "\n",
    "| |date|station|temp|\n",
    "|---|---|---|---|    \n",
    "|3|2018/9/1|東京|25.9|\n",
    "|4|2018/9/1|福岡|25.5|\n",
    "|5|2018/9/1|鹿児島|26.8|"
   ]
  },
  {
   "cell_type": "code",
   "execution_count": 12,
   "metadata": {},
   "outputs": [
    {
     "data": {
      "text/html": [
       "<div>\n",
       "<style scoped>\n",
       "    .dataframe tbody tr th:only-of-type {\n",
       "        vertical-align: middle;\n",
       "    }\n",
       "\n",
       "    .dataframe tbody tr th {\n",
       "        vertical-align: top;\n",
       "    }\n",
       "\n",
       "    .dataframe thead th {\n",
       "        text-align: right;\n",
       "    }\n",
       "</style>\n",
       "<table border=\"1\" class=\"dataframe\">\n",
       "  <thead>\n",
       "    <tr style=\"text-align: right;\">\n",
       "      <th></th>\n",
       "      <th>date</th>\n",
       "      <th>station</th>\n",
       "      <th>temp</th>\n",
       "    </tr>\n",
       "  </thead>\n",
       "  <tbody>\n",
       "    <tr>\n",
       "      <th>3</th>\n",
       "      <td>2018/9/1</td>\n",
       "      <td>東京</td>\n",
       "      <td>25.9</td>\n",
       "    </tr>\n",
       "    <tr>\n",
       "      <th>4</th>\n",
       "      <td>2018/9/1</td>\n",
       "      <td>福岡</td>\n",
       "      <td>25.5</td>\n",
       "    </tr>\n",
       "    <tr>\n",
       "      <th>5</th>\n",
       "      <td>2018/9/1</td>\n",
       "      <td>鹿児島</td>\n",
       "      <td>26.8</td>\n",
       "    </tr>\n",
       "  </tbody>\n",
       "</table>\n",
       "</div>"
      ],
      "text/plain": [
       "       date station  temp\n",
       "3  2018/9/1      東京  25.9\n",
       "4  2018/9/1      福岡  25.5\n",
       "5  2018/9/1     鹿児島  26.8"
      ]
     },
     "execution_count": 12,
     "metadata": {},
     "output_type": "execute_result"
    }
   ],
   "source": [
    "#ここに練習問題1の回答（スクリプト）を記述し、実行してみる\n",
    "df.iloc[3:6]"
   ]
  },
  {
   "cell_type": "markdown",
   "metadata": {},
   "source": [
    "---\n",
    "#### **コラム**\n",
    "<div style=\"padding: 10px; margin-bottom: 10px; border: 1px dashed #333333;\">\n",
    "    <b>DataFrameの内容を表示する量を調整する。<br>表示する行数や列数を指定する。</b>\n",
    "<div>"
   ]
  },
  {
   "cell_type": "code",
   "execution_count": 13,
   "metadata": {},
   "outputs": [
    {
     "data": {
      "text/plain": [
       "60"
      ]
     },
     "execution_count": 13,
     "metadata": {},
     "output_type": "execute_result"
    }
   ],
   "source": [
    "#現在の最大表示行数の表示してみる\n",
    "pd.get_option(\"display.max_rows\")"
   ]
  },
  {
   "cell_type": "code",
   "execution_count": 14,
   "metadata": {},
   "outputs": [],
   "source": [
    "#最大表示行数を指定する\n",
    "pd.set_option('display.max_rows', 5)"
   ]
  },
  {
   "cell_type": "code",
   "execution_count": 15,
   "metadata": {},
   "outputs": [
    {
     "data": {
      "text/html": [
       "<div>\n",
       "<style scoped>\n",
       "    .dataframe tbody tr th:only-of-type {\n",
       "        vertical-align: middle;\n",
       "    }\n",
       "\n",
       "    .dataframe tbody tr th {\n",
       "        vertical-align: top;\n",
       "    }\n",
       "\n",
       "    .dataframe thead th {\n",
       "        text-align: right;\n",
       "    }\n",
       "</style>\n",
       "<table border=\"1\" class=\"dataframe\">\n",
       "  <thead>\n",
       "    <tr style=\"text-align: right;\">\n",
       "      <th></th>\n",
       "      <th>date</th>\n",
       "      <th>station</th>\n",
       "      <th>temp</th>\n",
       "    </tr>\n",
       "  </thead>\n",
       "  <tbody>\n",
       "    <tr>\n",
       "      <th>0</th>\n",
       "      <td>2018/9/1</td>\n",
       "      <td>札幌</td>\n",
       "      <td>19.5</td>\n",
       "    </tr>\n",
       "    <tr>\n",
       "      <th>1</th>\n",
       "      <td>2018/9/1</td>\n",
       "      <td>青森</td>\n",
       "      <td>21.5</td>\n",
       "    </tr>\n",
       "    <tr>\n",
       "      <th>...</th>\n",
       "      <td>...</td>\n",
       "      <td>...</td>\n",
       "      <td>...</td>\n",
       "    </tr>\n",
       "    <tr>\n",
       "      <th>1498</th>\n",
       "      <td>2018/9/30</td>\n",
       "      <td>稚内</td>\n",
       "      <td>16.6</td>\n",
       "    </tr>\n",
       "    <tr>\n",
       "      <th>1499</th>\n",
       "      <td>2018/9/30</td>\n",
       "      <td>函館</td>\n",
       "      <td>17.6</td>\n",
       "    </tr>\n",
       "  </tbody>\n",
       "</table>\n",
       "<p>1500 rows × 3 columns</p>\n",
       "</div>"
      ],
      "text/plain": [
       "           date station  temp\n",
       "0      2018/9/1      札幌  19.5\n",
       "1      2018/9/1      青森  21.5\n",
       "...         ...     ...   ...\n",
       "1498  2018/9/30      稚内  16.6\n",
       "1499  2018/9/30      函館  17.6\n",
       "\n",
       "[1500 rows x 3 columns]"
      ]
     },
     "execution_count": 15,
     "metadata": {},
     "output_type": "execute_result"
    }
   ],
   "source": [
    "df"
   ]
  },
  {
   "cell_type": "code",
   "execution_count": 16,
   "metadata": {},
   "outputs": [],
   "source": [
    "#すべての行を表示する\n",
    "pd.set_option('display.max_rows', None)\n",
    "#df"
   ]
  },
  {
   "cell_type": "markdown",
   "metadata": {},
   "source": [
    "---\n",
    "#### **5.DataFrameから『temp』や『station』の列だけを取り出す**"
   ]
  },
  {
   "cell_type": "code",
   "execution_count": 17,
   "metadata": {},
   "outputs": [
    {
     "data": {
      "text/plain": [
       "0    19.5\n",
       "1    21.5\n",
       "2    21.5\n",
       "3    25.9\n",
       "4    25.5\n",
       "Name: temp, dtype: float64"
      ]
     },
     "execution_count": 17,
     "metadata": {},
     "output_type": "execute_result"
    }
   ],
   "source": [
    "df['temp'].head()"
   ]
  },
  {
   "cell_type": "code",
   "execution_count": 18,
   "metadata": {},
   "outputs": [
    {
     "data": {
      "text/plain": [
       "0    札幌\n",
       "1    青森\n",
       "2    仙台\n",
       "3    東京\n",
       "4    福岡\n",
       "Name: station, dtype: object"
      ]
     },
     "execution_count": 18,
     "metadata": {},
     "output_type": "execute_result"
    }
   ],
   "source": [
    "df['station'].head()"
   ]
  },
  {
   "cell_type": "markdown",
   "metadata": {},
   "source": [
    "#### **6．列名『temp』 の平均値も簡単に算出できる**"
   ]
  },
  {
   "cell_type": "code",
   "execution_count": 19,
   "metadata": {},
   "outputs": [
    {
     "data": {
      "text/plain": [
       "23.020840197693573"
      ]
     },
     "execution_count": 19,
     "metadata": {},
     "output_type": "execute_result"
    }
   ],
   "source": [
    "df_mean = df['temp'].mean()\n",
    "df_mean"
   ]
  },
  {
   "cell_type": "markdown",
   "metadata": {},
   "source": [
    "#### **7．平均値を用いて欠損を補完する**"
   ]
  },
  {
   "cell_type": "code",
   "execution_count": 20,
   "metadata": {},
   "outputs": [],
   "source": [
    "pd.set_option('display.max_rows', 5)"
   ]
  },
  {
   "cell_type": "code",
   "execution_count": 21,
   "metadata": {},
   "outputs": [
    {
     "data": {
      "text/plain": [
       "0       19.5\n",
       "1       21.5\n",
       "        ... \n",
       "1498    16.6\n",
       "1499    17.6\n",
       "Name: temp, Length: 1500, dtype: float64"
      ]
     },
     "execution_count": 21,
     "metadata": {},
     "output_type": "execute_result"
    }
   ],
   "source": [
    "df['temp'].fillna(df_mean)"
   ]
  },
  {
   "cell_type": "markdown",
   "metadata": {},
   "source": [
    "#### **8.欠損を補完した列『temp』を元のDataFrame『df』に反映させる**"
   ]
  },
  {
   "cell_type": "code",
   "execution_count": 22,
   "metadata": {},
   "outputs": [
    {
     "data": {
      "text/html": [
       "<div>\n",
       "<style scoped>\n",
       "    .dataframe tbody tr th:only-of-type {\n",
       "        vertical-align: middle;\n",
       "    }\n",
       "\n",
       "    .dataframe tbody tr th {\n",
       "        vertical-align: top;\n",
       "    }\n",
       "\n",
       "    .dataframe thead th {\n",
       "        text-align: right;\n",
       "    }\n",
       "</style>\n",
       "<table border=\"1\" class=\"dataframe\">\n",
       "  <thead>\n",
       "    <tr style=\"text-align: right;\">\n",
       "      <th></th>\n",
       "      <th>date</th>\n",
       "      <th>station</th>\n",
       "      <th>temp</th>\n",
       "    </tr>\n",
       "  </thead>\n",
       "  <tbody>\n",
       "    <tr>\n",
       "      <th>0</th>\n",
       "      <td>2018/9/1</td>\n",
       "      <td>札幌</td>\n",
       "      <td>19.5</td>\n",
       "    </tr>\n",
       "    <tr>\n",
       "      <th>1</th>\n",
       "      <td>2018/9/1</td>\n",
       "      <td>青森</td>\n",
       "      <td>21.5</td>\n",
       "    </tr>\n",
       "    <tr>\n",
       "      <th>...</th>\n",
       "      <td>...</td>\n",
       "      <td>...</td>\n",
       "      <td>...</td>\n",
       "    </tr>\n",
       "    <tr>\n",
       "      <th>1498</th>\n",
       "      <td>2018/9/30</td>\n",
       "      <td>稚内</td>\n",
       "      <td>16.6</td>\n",
       "    </tr>\n",
       "    <tr>\n",
       "      <th>1499</th>\n",
       "      <td>2018/9/30</td>\n",
       "      <td>函館</td>\n",
       "      <td>17.6</td>\n",
       "    </tr>\n",
       "  </tbody>\n",
       "</table>\n",
       "<p>1500 rows × 3 columns</p>\n",
       "</div>"
      ],
      "text/plain": [
       "           date station  temp\n",
       "0      2018/9/1      札幌  19.5\n",
       "1      2018/9/1      青森  21.5\n",
       "...         ...     ...   ...\n",
       "1498  2018/9/30      稚内  16.6\n",
       "1499  2018/9/30      函館  17.6\n",
       "\n",
       "[1500 rows x 3 columns]"
      ]
     },
     "execution_count": 22,
     "metadata": {},
     "output_type": "execute_result"
    }
   ],
   "source": [
    "df['temp'] = df['temp'].fillna(df_mean)\n",
    "df"
   ]
  },
  {
   "cell_type": "markdown",
   "metadata": {},
   "source": [
    "#### **9.列名『temp』の中から29以上のデータだけを抽出する（＝気温が29℃以上の場所だけ表示）**"
   ]
  },
  {
   "cell_type": "code",
   "execution_count": 23,
   "metadata": {},
   "outputs": [
    {
     "data": {
      "text/html": [
       "<div>\n",
       "<style scoped>\n",
       "    .dataframe tbody tr th:only-of-type {\n",
       "        vertical-align: middle;\n",
       "    }\n",
       "\n",
       "    .dataframe tbody tr th {\n",
       "        vertical-align: top;\n",
       "    }\n",
       "\n",
       "    .dataframe thead th {\n",
       "        text-align: right;\n",
       "    }\n",
       "</style>\n",
       "<table border=\"1\" class=\"dataframe\">\n",
       "  <thead>\n",
       "    <tr style=\"text-align: right;\">\n",
       "      <th></th>\n",
       "      <th>date</th>\n",
       "      <th>station</th>\n",
       "      <th>temp</th>\n",
       "    </tr>\n",
       "  </thead>\n",
       "  <tbody>\n",
       "    <tr>\n",
       "      <th>157</th>\n",
       "      <td>2018/9/4</td>\n",
       "      <td>波照間</td>\n",
       "      <td>29.0</td>\n",
       "    </tr>\n",
       "    <tr>\n",
       "      <th>656</th>\n",
       "      <td>2018/9/14</td>\n",
       "      <td>那覇</td>\n",
       "      <td>29.1</td>\n",
       "    </tr>\n",
       "    <tr>\n",
       "      <th>...</th>\n",
       "      <td>...</td>\n",
       "      <td>...</td>\n",
       "      <td>...</td>\n",
       "    </tr>\n",
       "    <tr>\n",
       "      <th>956</th>\n",
       "      <td>2018/9/20</td>\n",
       "      <td>那覇</td>\n",
       "      <td>29.0</td>\n",
       "    </tr>\n",
       "    <tr>\n",
       "      <th>1106</th>\n",
       "      <td>2018/9/23</td>\n",
       "      <td>那覇</td>\n",
       "      <td>29.0</td>\n",
       "    </tr>\n",
       "  </tbody>\n",
       "</table>\n",
       "<p>12 rows × 3 columns</p>\n",
       "</div>"
      ],
      "text/plain": [
       "           date station  temp\n",
       "157    2018/9/4     波照間  29.0\n",
       "656   2018/9/14      那覇  29.1\n",
       "...         ...     ...   ...\n",
       "956   2018/9/20      那覇  29.0\n",
       "1106  2018/9/23      那覇  29.0\n",
       "\n",
       "[12 rows x 3 columns]"
      ]
     },
     "execution_count": 23,
     "metadata": {},
     "output_type": "execute_result"
    }
   ],
   "source": [
    "df[df['temp'] >= 29]"
   ]
  },
  {
   "cell_type": "markdown",
   "metadata": {},
   "source": [
    "---\n",
    "### **複数のDataFrameの結合、グラフの表示**"
   ]
  },
  {
   "cell_type": "markdown",
   "metadata": {},
   "source": [
    "#### これまでの『気温データ』`temp.csv`と、新たなファイル『地点データ』`coordinates.csv`を結合する"
   ]
  },
  {
   "cell_type": "markdown",
   "metadata": {},
   "source": [
    "#### **1.『df_stations』という名前でCSVファイルをDataFrameとして読み込む**"
   ]
  },
  {
   "cell_type": "code",
   "execution_count": 24,
   "metadata": {},
   "outputs": [
    {
     "data": {
      "text/html": [
       "<div>\n",
       "<style scoped>\n",
       "    .dataframe tbody tr th:only-of-type {\n",
       "        vertical-align: middle;\n",
       "    }\n",
       "\n",
       "    .dataframe tbody tr th {\n",
       "        vertical-align: top;\n",
       "    }\n",
       "\n",
       "    .dataframe thead th {\n",
       "        text-align: right;\n",
       "    }\n",
       "</style>\n",
       "<table border=\"1\" class=\"dataframe\">\n",
       "  <thead>\n",
       "    <tr style=\"text-align: right;\">\n",
       "      <th></th>\n",
       "      <th>latitude</th>\n",
       "      <th>longitude</th>\n",
       "      <th>altitude</th>\n",
       "    </tr>\n",
       "    <tr>\n",
       "      <th>station_name</th>\n",
       "      <th></th>\n",
       "      <th></th>\n",
       "      <th></th>\n",
       "    </tr>\n",
       "  </thead>\n",
       "  <tbody>\n",
       "    <tr>\n",
       "      <th>稚内</th>\n",
       "      <td>45.42</td>\n",
       "      <td>141.68</td>\n",
       "      <td>3</td>\n",
       "    </tr>\n",
       "    <tr>\n",
       "      <th>札幌</th>\n",
       "      <td>43.06</td>\n",
       "      <td>141.33</td>\n",
       "      <td>17</td>\n",
       "    </tr>\n",
       "    <tr>\n",
       "      <th>函館</th>\n",
       "      <td>41.82</td>\n",
       "      <td>140.75</td>\n",
       "      <td>35</td>\n",
       "    </tr>\n",
       "    <tr>\n",
       "      <th>青森</th>\n",
       "      <td>40.82</td>\n",
       "      <td>140.77</td>\n",
       "      <td>3</td>\n",
       "    </tr>\n",
       "    <tr>\n",
       "      <th>秋田</th>\n",
       "      <td>39.72</td>\n",
       "      <td>140.10</td>\n",
       "      <td>6</td>\n",
       "    </tr>\n",
       "  </tbody>\n",
       "</table>\n",
       "</div>"
      ],
      "text/plain": [
       "              latitude  longitude  altitude\n",
       "station_name                               \n",
       "稚内               45.42     141.68         3\n",
       "札幌               43.06     141.33        17\n",
       "函館               41.82     140.75        35\n",
       "青森               40.82     140.77         3\n",
       "秋田               39.72     140.10         6"
      ]
     },
     "execution_count": 24,
     "metadata": {},
     "output_type": "execute_result"
    }
   ],
   "source": [
    "df_stations = pd.read_csv(\n",
    "   'data/coordinates.csv',\n",
    "   encoding='Shift_JIS',\n",
    "   index_col=0\n",
    ")\n",
    "df_stations.head()"
   ]
  },
  {
   "cell_type": "markdown",
   "metadata": {},
   "source": [
    "#### **2.気温データ『df』に、地点データ『df_stations』を結合する。結合するときに気温データの『station』列の値を用いる**"
   ]
  },
  {
   "cell_type": "code",
   "execution_count": 25,
   "metadata": {},
   "outputs": [
    {
     "data": {
      "text/html": [
       "<div>\n",
       "<style scoped>\n",
       "    .dataframe tbody tr th:only-of-type {\n",
       "        vertical-align: middle;\n",
       "    }\n",
       "\n",
       "    .dataframe tbody tr th {\n",
       "        vertical-align: top;\n",
       "    }\n",
       "\n",
       "    .dataframe thead th {\n",
       "        text-align: right;\n",
       "    }\n",
       "</style>\n",
       "<table border=\"1\" class=\"dataframe\">\n",
       "  <thead>\n",
       "    <tr style=\"text-align: right;\">\n",
       "      <th></th>\n",
       "      <th>date</th>\n",
       "      <th>station</th>\n",
       "      <th>temp</th>\n",
       "      <th>latitude</th>\n",
       "      <th>longitude</th>\n",
       "      <th>altitude</th>\n",
       "    </tr>\n",
       "  </thead>\n",
       "  <tbody>\n",
       "    <tr>\n",
       "      <th>0</th>\n",
       "      <td>2018/9/1</td>\n",
       "      <td>札幌</td>\n",
       "      <td>19.5</td>\n",
       "      <td>43.06</td>\n",
       "      <td>141.33</td>\n",
       "      <td>17</td>\n",
       "    </tr>\n",
       "    <tr>\n",
       "      <th>1</th>\n",
       "      <td>2018/9/1</td>\n",
       "      <td>青森</td>\n",
       "      <td>21.5</td>\n",
       "      <td>40.82</td>\n",
       "      <td>140.77</td>\n",
       "      <td>3</td>\n",
       "    </tr>\n",
       "    <tr>\n",
       "      <th>...</th>\n",
       "      <td>...</td>\n",
       "      <td>...</td>\n",
       "      <td>...</td>\n",
       "      <td>...</td>\n",
       "      <td>...</td>\n",
       "      <td>...</td>\n",
       "    </tr>\n",
       "    <tr>\n",
       "      <th>1498</th>\n",
       "      <td>2018/9/30</td>\n",
       "      <td>稚内</td>\n",
       "      <td>16.6</td>\n",
       "      <td>45.42</td>\n",
       "      <td>141.68</td>\n",
       "      <td>3</td>\n",
       "    </tr>\n",
       "    <tr>\n",
       "      <th>1499</th>\n",
       "      <td>2018/9/30</td>\n",
       "      <td>函館</td>\n",
       "      <td>17.6</td>\n",
       "      <td>41.82</td>\n",
       "      <td>140.75</td>\n",
       "      <td>35</td>\n",
       "    </tr>\n",
       "  </tbody>\n",
       "</table>\n",
       "<p>1500 rows × 6 columns</p>\n",
       "</div>"
      ],
      "text/plain": [
       "           date station  temp  latitude  longitude  altitude\n",
       "0      2018/9/1      札幌  19.5     43.06     141.33        17\n",
       "1      2018/9/1      青森  21.5     40.82     140.77         3\n",
       "...         ...     ...   ...       ...        ...       ...\n",
       "1498  2018/9/30      稚内  16.6     45.42     141.68         3\n",
       "1499  2018/9/30      函館  17.6     41.82     140.75        35\n",
       "\n",
       "[1500 rows x 6 columns]"
      ]
     },
     "execution_count": 25,
     "metadata": {},
     "output_type": "execute_result"
    }
   ],
   "source": [
    "df = df.join(\n",
    "  df_stations,\n",
    "  on='station'\n",
    ")\n",
    "df"
   ]
  },
  {
   "cell_type": "markdown",
   "metadata": {},
   "source": [
    "#### **3.複数の条件を指定する（AND）**"
   ]
  },
  {
   "cell_type": "code",
   "execution_count": 26,
   "metadata": {},
   "outputs": [
    {
     "data": {
      "text/html": [
       "<div>\n",
       "<style scoped>\n",
       "    .dataframe tbody tr th:only-of-type {\n",
       "        vertical-align: middle;\n",
       "    }\n",
       "\n",
       "    .dataframe tbody tr th {\n",
       "        vertical-align: top;\n",
       "    }\n",
       "\n",
       "    .dataframe thead th {\n",
       "        text-align: right;\n",
       "    }\n",
       "</style>\n",
       "<table border=\"1\" class=\"dataframe\">\n",
       "  <thead>\n",
       "    <tr style=\"text-align: right;\">\n",
       "      <th></th>\n",
       "      <th>date</th>\n",
       "      <th>station</th>\n",
       "      <th>temp</th>\n",
       "      <th>latitude</th>\n",
       "      <th>longitude</th>\n",
       "      <th>altitude</th>\n",
       "    </tr>\n",
       "  </thead>\n",
       "  <tbody>\n",
       "    <tr>\n",
       "      <th>3</th>\n",
       "      <td>2018/9/1</td>\n",
       "      <td>東京</td>\n",
       "      <td>25.9</td>\n",
       "      <td>35.69</td>\n",
       "      <td>139.75</td>\n",
       "      <td>25</td>\n",
       "    </tr>\n",
       "    <tr>\n",
       "      <th>153</th>\n",
       "      <td>2018/9/4</td>\n",
       "      <td>東京</td>\n",
       "      <td>26.5</td>\n",
       "      <td>35.69</td>\n",
       "      <td>139.75</td>\n",
       "      <td>25</td>\n",
       "    </tr>\n",
       "    <tr>\n",
       "      <th>...</th>\n",
       "      <td>...</td>\n",
       "      <td>...</td>\n",
       "      <td>...</td>\n",
       "      <td>...</td>\n",
       "      <td>...</td>\n",
       "      <td>...</td>\n",
       "    </tr>\n",
       "    <tr>\n",
       "      <th>403</th>\n",
       "      <td>2018/9/9</td>\n",
       "      <td>東京</td>\n",
       "      <td>28.3</td>\n",
       "      <td>35.69</td>\n",
       "      <td>139.75</td>\n",
       "      <td>25</td>\n",
       "    </tr>\n",
       "    <tr>\n",
       "      <th>453</th>\n",
       "      <td>2018/9/10</td>\n",
       "      <td>東京</td>\n",
       "      <td>25.5</td>\n",
       "      <td>35.69</td>\n",
       "      <td>139.75</td>\n",
       "      <td>25</td>\n",
       "    </tr>\n",
       "  </tbody>\n",
       "</table>\n",
       "<p>8 rows × 6 columns</p>\n",
       "</div>"
      ],
      "text/plain": [
       "          date station  temp  latitude  longitude  altitude\n",
       "3     2018/9/1      東京  25.9     35.69     139.75        25\n",
       "153   2018/9/4      東京  26.5     35.69     139.75        25\n",
       "..         ...     ...   ...       ...        ...       ...\n",
       "403   2018/9/9      東京  28.3     35.69     139.75        25\n",
       "453  2018/9/10      東京  25.5     35.69     139.75        25\n",
       "\n",
       "[8 rows x 6 columns]"
      ]
     },
     "execution_count": 26,
     "metadata": {},
     "output_type": "execute_result"
    }
   ],
   "source": [
    "df[(df['temp'] >= 25) & (df['station'] == '東京')]"
   ]
  },
  {
   "cell_type": "markdown",
   "metadata": {},
   "source": [
    "#### **4.複数の条件を指定する（OR）**"
   ]
  },
  {
   "cell_type": "code",
   "execution_count": 27,
   "metadata": {},
   "outputs": [
    {
     "data": {
      "text/html": [
       "<div>\n",
       "<style scoped>\n",
       "    .dataframe tbody tr th:only-of-type {\n",
       "        vertical-align: middle;\n",
       "    }\n",
       "\n",
       "    .dataframe tbody tr th {\n",
       "        vertical-align: top;\n",
       "    }\n",
       "\n",
       "    .dataframe thead th {\n",
       "        text-align: right;\n",
       "    }\n",
       "</style>\n",
       "<table border=\"1\" class=\"dataframe\">\n",
       "  <thead>\n",
       "    <tr style=\"text-align: right;\">\n",
       "      <th></th>\n",
       "      <th>date</th>\n",
       "      <th>station</th>\n",
       "      <th>temp</th>\n",
       "      <th>latitude</th>\n",
       "      <th>longitude</th>\n",
       "      <th>altitude</th>\n",
       "    </tr>\n",
       "  </thead>\n",
       "  <tbody>\n",
       "    <tr>\n",
       "      <th>157</th>\n",
       "      <td>2018/9/4</td>\n",
       "      <td>波照間</td>\n",
       "      <td>29.0</td>\n",
       "      <td>24.06</td>\n",
       "      <td>123.77</td>\n",
       "      <td>38</td>\n",
       "    </tr>\n",
       "    <tr>\n",
       "      <th>498</th>\n",
       "      <td>2018/9/10</td>\n",
       "      <td>稚内</td>\n",
       "      <td>13.9</td>\n",
       "      <td>45.42</td>\n",
       "      <td>141.68</td>\n",
       "      <td>3</td>\n",
       "    </tr>\n",
       "    <tr>\n",
       "      <th>...</th>\n",
       "      <td>...</td>\n",
       "      <td>...</td>\n",
       "      <td>...</td>\n",
       "      <td>...</td>\n",
       "      <td>...</td>\n",
       "      <td>...</td>\n",
       "    </tr>\n",
       "    <tr>\n",
       "      <th>1309</th>\n",
       "      <td>2018/9/27</td>\n",
       "      <td>盛岡</td>\n",
       "      <td>12.8</td>\n",
       "      <td>39.70</td>\n",
       "      <td>141.17</td>\n",
       "      <td>155</td>\n",
       "    </tr>\n",
       "    <tr>\n",
       "      <th>1348</th>\n",
       "      <td>2018/9/27</td>\n",
       "      <td>稚内</td>\n",
       "      <td>13.4</td>\n",
       "      <td>45.42</td>\n",
       "      <td>141.68</td>\n",
       "      <td>3</td>\n",
       "    </tr>\n",
       "  </tbody>\n",
       "</table>\n",
       "<p>17 rows × 6 columns</p>\n",
       "</div>"
      ],
      "text/plain": [
       "           date station  temp  latitude  longitude  altitude\n",
       "157    2018/9/4     波照間  29.0     24.06     123.77        38\n",
       "498   2018/9/10      稚内  13.9     45.42     141.68         3\n",
       "...         ...     ...   ...       ...        ...       ...\n",
       "1309  2018/9/27      盛岡  12.8     39.70     141.17       155\n",
       "1348  2018/9/27      稚内  13.4     45.42     141.68         3\n",
       "\n",
       "[17 rows x 6 columns]"
      ]
     },
     "execution_count": 27,
     "metadata": {},
     "output_type": "execute_result"
    }
   ],
   "source": [
    "df[(df['temp'] >= 29) | (df['temp'] < 14)]"
   ]
  },
  {
   "cell_type": "markdown",
   "metadata": {},
   "source": [
    "#### **5.条件が多い場合は『isin』メソッドを用いる**"
   ]
  },
  {
   "cell_type": "code",
   "execution_count": 28,
   "metadata": {},
   "outputs": [
    {
     "data": {
      "text/html": [
       "<div>\n",
       "<style scoped>\n",
       "    .dataframe tbody tr th:only-of-type {\n",
       "        vertical-align: middle;\n",
       "    }\n",
       "\n",
       "    .dataframe tbody tr th {\n",
       "        vertical-align: top;\n",
       "    }\n",
       "\n",
       "    .dataframe thead th {\n",
       "        text-align: right;\n",
       "    }\n",
       "</style>\n",
       "<table border=\"1\" class=\"dataframe\">\n",
       "  <thead>\n",
       "    <tr style=\"text-align: right;\">\n",
       "      <th></th>\n",
       "      <th>date</th>\n",
       "      <th>station</th>\n",
       "      <th>temp</th>\n",
       "      <th>latitude</th>\n",
       "      <th>longitude</th>\n",
       "      <th>altitude</th>\n",
       "    </tr>\n",
       "  </thead>\n",
       "  <tbody>\n",
       "    <tr>\n",
       "      <th>0</th>\n",
       "      <td>2018/9/1</td>\n",
       "      <td>札幌</td>\n",
       "      <td>19.5</td>\n",
       "      <td>43.06</td>\n",
       "      <td>141.33</td>\n",
       "      <td>17</td>\n",
       "    </tr>\n",
       "    <tr>\n",
       "      <th>1</th>\n",
       "      <td>2018/9/1</td>\n",
       "      <td>青森</td>\n",
       "      <td>21.5</td>\n",
       "      <td>40.82</td>\n",
       "      <td>140.77</td>\n",
       "      <td>3</td>\n",
       "    </tr>\n",
       "    <tr>\n",
       "      <th>...</th>\n",
       "      <td>...</td>\n",
       "      <td>...</td>\n",
       "      <td>...</td>\n",
       "      <td>...</td>\n",
       "      <td>...</td>\n",
       "      <td>...</td>\n",
       "    </tr>\n",
       "    <tr>\n",
       "      <th>1456</th>\n",
       "      <td>2018/9/30</td>\n",
       "      <td>那覇</td>\n",
       "      <td>26.3</td>\n",
       "      <td>26.21</td>\n",
       "      <td>127.69</td>\n",
       "      <td>28</td>\n",
       "    </tr>\n",
       "    <tr>\n",
       "      <th>1473</th>\n",
       "      <td>2018/9/30</td>\n",
       "      <td>静岡</td>\n",
       "      <td>22.3</td>\n",
       "      <td>34.98</td>\n",
       "      <td>138.40</td>\n",
       "      <td>14</td>\n",
       "    </tr>\n",
       "  </tbody>\n",
       "</table>\n",
       "<p>120 rows × 6 columns</p>\n",
       "</div>"
      ],
      "text/plain": [
       "           date station  temp  latitude  longitude  altitude\n",
       "0      2018/9/1      札幌  19.5     43.06     141.33        17\n",
       "1      2018/9/1      青森  21.5     40.82     140.77         3\n",
       "...         ...     ...   ...       ...        ...       ...\n",
       "1456  2018/9/30      那覇  26.3     26.21     127.69        28\n",
       "1473  2018/9/30      静岡  22.3     34.98     138.40        14\n",
       "\n",
       "[120 rows x 6 columns]"
      ]
     },
     "execution_count": 28,
     "metadata": {},
     "output_type": "execute_result"
    }
   ],
   "source": [
    "df[df['station'].isin(['札幌','那覇','青森','静岡'])]"
   ]
  },
  {
   "cell_type": "markdown",
   "metadata": {},
   "source": [
    "#### **6.ここで平均値について考える**"
   ]
  },
  {
   "cell_type": "markdown",
   "metadata": {},
   "source": [
    "　平均値の値だけでは、データ全体の特徴を把握することはできない。データ分析や機械学習では、データをグラフなどに表示し、傾向や特徴を目で確かめることが重要である。pandasを用いるとJupyter上でデータをさまざまなグラフとして表示することができる。"
   ]
  },
  {
   "cell_type": "code",
   "execution_count": 29,
   "metadata": {},
   "outputs": [
    {
     "data": {
      "text/plain": [
       "<AxesSubplot:>"
      ]
     },
     "execution_count": 29,
     "metadata": {},
     "output_type": "execute_result"
    },
    {
     "data": {
      "image/png": "[encoded data removed]",
      "text/plain": [
       "<Figure size 432x288 with 1 Axes>"
      ]
     },
     "metadata": {
      "needs_background": "light"
     },
     "output_type": "display_data"
    }
   ],
   "source": [
    "df['temp'].hist()"
   ]
  },
  {
   "cell_type": "markdown",
   "metadata": {},
   "source": [
    "#### **7.さまざまグラフを作成してみる**\n",
    "\n",
    "|グラフ名|表示方法|\n",
    "|:---:|---|\n",
    "|折れ線グラフ|df['列名'].plot()|\n",
    "|ヒストグラム|df['列名'].hist()|\n",
    "|円グラフ|df['列名'].plot.pie()|\n",
    "|散布図|df.plot.scatter('x軸の列名、y軸の列名')|\n",
    "|箱ひげ図|df.plot.box()|"
   ]
  },
  {
   "cell_type": "markdown",
   "metadata": {},
   "source": [
    "<div style=\"padding: 10px; margin-bottom: 10px; border: 1px dashed #333333;\">\n",
    "    <b>練習問題2　緯度と気温の関係を示す『散布図』を作成しなさい。</b>\n",
    "<div>"
   ]
  },
  {
   "cell_type": "code",
   "execution_count": 30,
   "metadata": {},
   "outputs": [
    {
     "data": {
      "text/plain": [
       "<AxesSubplot:xlabel='latitude', ylabel='temp'>"
      ]
     },
     "execution_count": 30,
     "metadata": {},
     "output_type": "execute_result"
    },
    {
     "data": {
      "image/png": "[encoded data removed]",
      "text/plain": [
       "<Figure size 432x288 with 1 Axes>"
      ]
     },
     "metadata": {
      "needs_background": "light"
     },
     "output_type": "display_data"
    }
   ],
   "source": [
    "df.plot.scatter('latitude','temp')"
   ]
  },
  {
   "cell_type": "markdown",
   "metadata": {},
   "source": [
    "<div style=\"padding: 10px; margin-bottom: 10px; border: 1px dashed #333333;\">\n",
    "    <b>練習問題3　上記以外のデータの関係性を示す散布図を自由に作成し、それについて説明しなさい。</b>\n",
    "<div>"
   ]
  },
  {
   "cell_type": "code",
   "execution_count": 31,
   "metadata": {},
   "outputs": [],
   "source": [
    "pd.set_option('display.max_rows', 5)"
   ]
  },
  {
   "cell_type": "code",
   "execution_count": 32,
   "metadata": {},
   "outputs": [
    {
     "data": {
      "text/html": [
       "<div>\n",
       "<style scoped>\n",
       "    .dataframe tbody tr th:only-of-type {\n",
       "        vertical-align: middle;\n",
       "    }\n",
       "\n",
       "    .dataframe tbody tr th {\n",
       "        vertical-align: top;\n",
       "    }\n",
       "\n",
       "    .dataframe thead th {\n",
       "        text-align: right;\n",
       "    }\n",
       "</style>\n",
       "<table border=\"1\" class=\"dataframe\">\n",
       "  <thead>\n",
       "    <tr style=\"text-align: right;\">\n",
       "      <th></th>\n",
       "      <th>Number</th>\n",
       "      <th>Goal of height</th>\n",
       "      <th>Size of shoe</th>\n",
       "    </tr>\n",
       "  </thead>\n",
       "  <tbody>\n",
       "    <tr>\n",
       "      <th>0</th>\n",
       "      <td>1</td>\n",
       "      <td>155</td>\n",
       "      <td>22.5</td>\n",
       "    </tr>\n",
       "    <tr>\n",
       "      <th>1</th>\n",
       "      <td>2</td>\n",
       "      <td>158</td>\n",
       "      <td>23.0</td>\n",
       "    </tr>\n",
       "    <tr>\n",
       "      <th>...</th>\n",
       "      <td>...</td>\n",
       "      <td>...</td>\n",
       "      <td>...</td>\n",
       "    </tr>\n",
       "    <tr>\n",
       "      <th>69</th>\n",
       "      <td>70</td>\n",
       "      <td>186</td>\n",
       "      <td>NaN</td>\n",
       "    </tr>\n",
       "    <tr>\n",
       "      <th>70</th>\n",
       "      <td>71</td>\n",
       "      <td>188</td>\n",
       "      <td>NaN</td>\n",
       "    </tr>\n",
       "  </tbody>\n",
       "</table>\n",
       "<p>71 rows × 3 columns</p>\n",
       "</div>"
      ],
      "text/plain": [
       "    Number  Goal of height  Size of shoe\n",
       "0        1             155          22.5\n",
       "1        2             158          23.0\n",
       "..     ...             ...           ...\n",
       "69      70             186           NaN\n",
       "70      71             188           NaN\n",
       "\n",
       "[71 rows x 3 columns]"
      ]
     },
     "execution_count": 32,
     "metadata": {},
     "output_type": "execute_result"
    }
   ],
   "source": [
    "import pandas as pd\n",
    "\n",
    "df = pd.read_csv( #dfという名で取り扱いやすくする\n",
    "    'data/191001_practice03.csv', #読み込むファイル名\n",
    "    encoding = 'UTF-8' #Shift_JISはWindows,Macはutf-8\n",
    ")\n",
    "df"
   ]
  },
  {
   "cell_type": "code",
   "execution_count": 33,
   "metadata": {},
   "outputs": [
    {
     "data": {
      "text/plain": [
       "25.9"
      ]
     },
     "execution_count": 33,
     "metadata": {},
     "output_type": "execute_result"
    }
   ],
   "source": [
    "df_mean = df['Size of shoe'].mean()\n",
    "df_mean"
   ]
  },
  {
   "cell_type": "code",
   "execution_count": 34,
   "metadata": {},
   "outputs": [
    {
     "data": {
      "text/plain": [
       "0     22.5\n",
       "1     23.0\n",
       "      ... \n",
       "69    25.9\n",
       "70    25.9\n",
       "Name: Size of shoe, Length: 71, dtype: float64"
      ]
     },
     "execution_count": 34,
     "metadata": {},
     "output_type": "execute_result"
    }
   ],
   "source": [
    "df['Size of shoe'].fillna(df_mean)"
   ]
  },
  {
   "cell_type": "code",
   "execution_count": 35,
   "metadata": {},
   "outputs": [
    {
     "data": {
      "text/html": [
       "<div>\n",
       "<style scoped>\n",
       "    .dataframe tbody tr th:only-of-type {\n",
       "        vertical-align: middle;\n",
       "    }\n",
       "\n",
       "    .dataframe tbody tr th {\n",
       "        vertical-align: top;\n",
       "    }\n",
       "\n",
       "    .dataframe thead th {\n",
       "        text-align: right;\n",
       "    }\n",
       "</style>\n",
       "<table border=\"1\" class=\"dataframe\">\n",
       "  <thead>\n",
       "    <tr style=\"text-align: right;\">\n",
       "      <th></th>\n",
       "      <th>Number</th>\n",
       "      <th>Goal of height</th>\n",
       "      <th>Size of shoe</th>\n",
       "    </tr>\n",
       "  </thead>\n",
       "  <tbody>\n",
       "    <tr>\n",
       "      <th>0</th>\n",
       "      <td>1</td>\n",
       "      <td>155</td>\n",
       "      <td>22.5</td>\n",
       "    </tr>\n",
       "    <tr>\n",
       "      <th>1</th>\n",
       "      <td>2</td>\n",
       "      <td>158</td>\n",
       "      <td>23.0</td>\n",
       "    </tr>\n",
       "    <tr>\n",
       "      <th>...</th>\n",
       "      <td>...</td>\n",
       "      <td>...</td>\n",
       "      <td>...</td>\n",
       "    </tr>\n",
       "    <tr>\n",
       "      <th>69</th>\n",
       "      <td>70</td>\n",
       "      <td>186</td>\n",
       "      <td>25.9</td>\n",
       "    </tr>\n",
       "    <tr>\n",
       "      <th>70</th>\n",
       "      <td>71</td>\n",
       "      <td>188</td>\n",
       "      <td>25.9</td>\n",
       "    </tr>\n",
       "  </tbody>\n",
       "</table>\n",
       "<p>71 rows × 3 columns</p>\n",
       "</div>"
      ],
      "text/plain": [
       "    Number  Goal of height  Size of shoe\n",
       "0        1             155          22.5\n",
       "1        2             158          23.0\n",
       "..     ...             ...           ...\n",
       "69      70             186          25.9\n",
       "70      71             188          25.9\n",
       "\n",
       "[71 rows x 3 columns]"
      ]
     },
     "execution_count": 35,
     "metadata": {},
     "output_type": "execute_result"
    }
   ],
   "source": [
    "df['Size of shoe'] = df['Size of shoe'].fillna(df_mean)\n",
    "df"
   ]
  },
  {
   "cell_type": "code",
   "execution_count": 36,
   "metadata": {},
   "outputs": [
    {
     "data": {
      "text/plain": [
       "171.1267605633803"
      ]
     },
     "execution_count": 36,
     "metadata": {},
     "output_type": "execute_result"
    }
   ],
   "source": [
    "df_mean = df['Goal of height'].mean()\n",
    "df_mean"
   ]
  },
  {
   "cell_type": "code",
   "execution_count": 37,
   "metadata": {},
   "outputs": [
    {
     "data": {
      "text/plain": [
       "0     155\n",
       "1     158\n",
       "     ... \n",
       "69    186\n",
       "70    188\n",
       "Name: Goal of height, Length: 71, dtype: int64"
      ]
     },
     "execution_count": 37,
     "metadata": {},
     "output_type": "execute_result"
    }
   ],
   "source": [
    "df['Goal of height'].fillna(df_mean)"
   ]
  },
  {
   "cell_type": "code",
   "execution_count": 38,
   "metadata": {},
   "outputs": [
    {
     "data": {
      "text/html": [
       "<div>\n",
       "<style scoped>\n",
       "    .dataframe tbody tr th:only-of-type {\n",
       "        vertical-align: middle;\n",
       "    }\n",
       "\n",
       "    .dataframe tbody tr th {\n",
       "        vertical-align: top;\n",
       "    }\n",
       "\n",
       "    .dataframe thead th {\n",
       "        text-align: right;\n",
       "    }\n",
       "</style>\n",
       "<table border=\"1\" class=\"dataframe\">\n",
       "  <thead>\n",
       "    <tr style=\"text-align: right;\">\n",
       "      <th></th>\n",
       "      <th>Number</th>\n",
       "      <th>Goal of height</th>\n",
       "      <th>Size of shoe</th>\n",
       "    </tr>\n",
       "  </thead>\n",
       "  <tbody>\n",
       "    <tr>\n",
       "      <th>0</th>\n",
       "      <td>1</td>\n",
       "      <td>155</td>\n",
       "      <td>22.5</td>\n",
       "    </tr>\n",
       "    <tr>\n",
       "      <th>1</th>\n",
       "      <td>2</td>\n",
       "      <td>158</td>\n",
       "      <td>23.0</td>\n",
       "    </tr>\n",
       "    <tr>\n",
       "      <th>...</th>\n",
       "      <td>...</td>\n",
       "      <td>...</td>\n",
       "      <td>...</td>\n",
       "    </tr>\n",
       "    <tr>\n",
       "      <th>69</th>\n",
       "      <td>70</td>\n",
       "      <td>186</td>\n",
       "      <td>25.9</td>\n",
       "    </tr>\n",
       "    <tr>\n",
       "      <th>70</th>\n",
       "      <td>71</td>\n",
       "      <td>188</td>\n",
       "      <td>25.9</td>\n",
       "    </tr>\n",
       "  </tbody>\n",
       "</table>\n",
       "<p>71 rows × 3 columns</p>\n",
       "</div>"
      ],
      "text/plain": [
       "    Number  Goal of height  Size of shoe\n",
       "0        1             155          22.5\n",
       "1        2             158          23.0\n",
       "..     ...             ...           ...\n",
       "69      70             186          25.9\n",
       "70      71             188          25.9\n",
       "\n",
       "[71 rows x 3 columns]"
      ]
     },
     "execution_count": 38,
     "metadata": {},
     "output_type": "execute_result"
    }
   ],
   "source": [
    "df['Goal of height'] = df['Goal of height'].fillna(df_mean)\n",
    "df"
   ]
  },
  {
   "cell_type": "code",
   "execution_count": 39,
   "metadata": {},
   "outputs": [
    {
     "data": {
      "text/plain": [
       "<AxesSubplot:xlabel='Size of shoe', ylabel='Goal of height'>"
      ]
     },
     "execution_count": 39,
     "metadata": {},
     "output_type": "execute_result"
    },
    {
     "data": {
      "image/png": "[encoded data removed]",
      "text/plain": [
       "<Figure size 432x288 with 1 Axes>"
      ]
     },
     "metadata": {
      "needs_background": "light"
     },
     "output_type": "display_data"
    }
   ],
   "source": [
    "df.plot.scatter('Size of shoe','Goal of height')"
   ]
  }
 ],
 "metadata": {
  "kernelspec": {
   "display_name": "Python 3",
   "language": "python",
   "name": "python3"
  },
  "language_info": {
   "codemirror_mode": {
    "name": "ipython",
    "version": 3
   },
   "file_extension": ".py",
   "mimetype": "text/x-python",
   "name": "python",
   "nbconvert_exporter": "python",
   "pygments_lexer": "ipython3",
   "version": "3.8.2"
  }
 },
 "nbformat": 4,
 "nbformat_minor": 4
}
